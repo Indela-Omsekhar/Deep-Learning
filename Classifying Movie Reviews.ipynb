{
 "cells": [
  {
   "cell_type": "markdown",
   "id": "78de8404",
   "metadata": {},
   "source": [
    "#### single-label, binary class classification"
   ]
  },
  {
   "cell_type": "code",
   "execution_count": 1,
   "id": "07c7952a",
   "metadata": {},
   "outputs": [],
   "source": [
    "# imorting necessary libraries\n",
    "from keras.datasets import imdb\n",
    "from keras import models\n",
    "from keras import layers\n",
    "import numpy as np\n",
    "import matplotlib.pyplot as plt"
   ]
  },
  {
   "cell_type": "code",
   "execution_count": 2,
   "id": "93ff79d9",
   "metadata": {},
   "outputs": [],
   "source": [
    "# Loading the IMDB dataset in Keras and split data into train and test\n",
    "# num_words=10000 means keep top 10,000 most frequently occurring words in the training data\n",
    "(train_data, train_labels), (test_data, test_labels) = imdb.load_data(num_words=10000)"
   ]
  },
  {
   "cell_type": "code",
   "execution_count": 3,
   "id": "99017e71",
   "metadata": {},
   "outputs": [
    {
     "data": {
      "text/plain": [
       "\"? this film was just brilliant casting location scenery story direction everyone's really suited the part they played and you could just imagine being there robert ? is an amazing actor and now the same being director ? father came from the same scottish island as myself so i loved the fact there was a real connection with this film the witty remarks throughout the film were great it was just brilliant so much that i bought the film as soon as it was released for ? and would recommend it to everyone to watch and the fly fishing was amazing really cried at the end it was so sad and you know what they say if you cry at a film it must have been good and this definitely was also ? to the two little boy's that played the ? of norman and paul they were just brilliant children are often left out of the ? list i think because the stars that play them all grown up are such a big profile for the whole film but these children are amazing and should be praised for what they have done don't you think the whole story was so lovely because it was true and was someone's life after all that was shared with us all\""
      ]
     },
     "execution_count": 3,
     "metadata": {},
     "output_type": "execute_result"
    }
   ],
   "source": [
    "# Display content of one of the movie review in english\n",
    "word_index = imdb.get_word_index()\n",
    "reverse_word_index = dict([(value, key) for (key, value) in word_index.items()])\n",
    "decoded_review = ' '.join([reverse_word_index.get(i-3, '?') for i in train_data[0]])\n",
    "decoded_review"
   ]
  },
  {
   "cell_type": "code",
   "execution_count": 4,
   "id": "72fd0186",
   "metadata": {},
   "outputs": [],
   "source": [
    "# Encoding the integer sequences into a binary matrix - one hot encoding\n",
    "def vectorize_sequences(sequences, dimension=10000):\n",
    "    results = np.zeros((len(sequences), dimension))\n",
    "    for i, sequence in enumerate(sequences):\n",
    "        results[i, sequence] = 1.\n",
    "    return results\n",
    "\n",
    "x_train = vectorize_sequences(train_data)\n",
    "x_test = vectorize_sequences(test_data)\n",
    "\n",
    "y_train = np.asarray(train_labels).astype('float32')\n",
    "y_test = np.asarray(test_labels).astype('float32')\n",
    "\n",
    "x_val = x_train[:10000]\n",
    "partial_x_train = x_train[10000:]\n",
    "y_val = y_train[:10000]\n",
    "partial_y_train = y_train[10000:]"
   ]
  },
  {
   "cell_type": "code",
   "execution_count": 5,
   "id": "bd8c4d72",
   "metadata": {
    "scrolled": true
   },
   "outputs": [
    {
     "name": "stdout",
     "output_type": "stream",
     "text": [
      "Epoch 1/20\n",
      "59/59 [==============================] - 1s 14ms/step - loss: 0.4668 - accuracy: 0.8206 - val_loss: 0.3477 - val_accuracy: 0.8684\n",
      "Epoch 2/20\n",
      "59/59 [==============================] - 1s 9ms/step - loss: 0.2624 - accuracy: 0.9088 - val_loss: 0.2795 - val_accuracy: 0.8891\n",
      "Epoch 3/20\n",
      "59/59 [==============================] - 1s 9ms/step - loss: 0.1942 - accuracy: 0.9313 - val_loss: 0.2813 - val_accuracy: 0.8867\n",
      "Epoch 4/20\n",
      "59/59 [==============================] - 1s 9ms/step - loss: 0.1538 - accuracy: 0.9484 - val_loss: 0.2844 - val_accuracy: 0.8880\n",
      "Epoch 5/20\n",
      "59/59 [==============================] - 0s 8ms/step - loss: 0.1246 - accuracy: 0.9590 - val_loss: 0.3239 - val_accuracy: 0.8738\n",
      "Epoch 6/20\n",
      "59/59 [==============================] - 1s 9ms/step - loss: 0.1025 - accuracy: 0.9684 - val_loss: 0.3340 - val_accuracy: 0.8823\n",
      "Epoch 7/20\n",
      "59/59 [==============================] - 1s 9ms/step - loss: 0.0813 - accuracy: 0.9759 - val_loss: 0.3740 - val_accuracy: 0.8785\n",
      "Epoch 8/20\n",
      "59/59 [==============================] - 1s 9ms/step - loss: 0.0657 - accuracy: 0.9815 - val_loss: 0.3865 - val_accuracy: 0.8770\n",
      "Epoch 9/20\n",
      "59/59 [==============================] - 0s 8ms/step - loss: 0.0517 - accuracy: 0.9863 - val_loss: 0.4303 - val_accuracy: 0.8713\n",
      "Epoch 10/20\n",
      "59/59 [==============================] - 0s 9ms/step - loss: 0.0430 - accuracy: 0.9885 - val_loss: 0.4538 - val_accuracy: 0.8733\n",
      "Epoch 11/20\n",
      "59/59 [==============================] - 1s 9ms/step - loss: 0.0308 - accuracy: 0.9936 - val_loss: 0.5207 - val_accuracy: 0.8639\n",
      "Epoch 12/20\n",
      "59/59 [==============================] - 1s 9ms/step - loss: 0.0241 - accuracy: 0.9955 - val_loss: 0.5414 - val_accuracy: 0.8707\n",
      "Epoch 13/20\n",
      "59/59 [==============================] - 1s 9ms/step - loss: 0.0183 - accuracy: 0.9968 - val_loss: 0.5865 - val_accuracy: 0.8692\n",
      "Epoch 14/20\n",
      "59/59 [==============================] - 1s 9ms/step - loss: 0.0150 - accuracy: 0.9971 - val_loss: 0.6240 - val_accuracy: 0.8659\n",
      "Epoch 15/20\n",
      "59/59 [==============================] - 1s 9ms/step - loss: 0.0090 - accuracy: 0.9991 - val_loss: 0.6671 - val_accuracy: 0.8666\n",
      "Epoch 16/20\n",
      "59/59 [==============================] - 0s 8ms/step - loss: 0.0071 - accuracy: 0.9994 - val_loss: 0.7125 - val_accuracy: 0.8663\n",
      "Epoch 17/20\n",
      "59/59 [==============================] - 0s 8ms/step - loss: 0.0059 - accuracy: 0.9991 - val_loss: 0.7575 - val_accuracy: 0.8663\n",
      "Epoch 18/20\n",
      "59/59 [==============================] - 0s 8ms/step - loss: 0.0041 - accuracy: 0.9996 - val_loss: 0.7864 - val_accuracy: 0.8662\n",
      "Epoch 19/20\n",
      "59/59 [==============================] - 0s 8ms/step - loss: 0.0038 - accuracy: 0.9995 - val_loss: 0.8324 - val_accuracy: 0.8654\n",
      "Epoch 20/20\n",
      "59/59 [==============================] - 0s 8ms/step - loss: 0.0015 - accuracy: 0.9999 - val_loss: 0.8709 - val_accuracy: 0.8657\n",
      "782/782 [==============================] - 1s 2ms/step - loss: 0.9404 - accuracy: 0.8519\n"
     ]
    }
   ],
   "source": [
    "#  network architecture\n",
    "# Sequential class used only for linear stacks of layers\n",
    "# functional API used for directed acyclic graphs of layers\n",
    "model = models.Sequential()\n",
    "# fully connected layer with 16 filters\n",
    "model.add(layers.Dense(16, activation='relu', input_shape=(10000,)))\n",
    "# fully connected layer with 16 filters\n",
    "model.add(layers.Dense(16, activation='relu'))\n",
    "# fully connected layer with 1 output classes\n",
    "model.add(layers.Dense(1, activation='sigmoid'))\n",
    "\n",
    "# compilation step\n",
    "# binary crossentropy for a two-class classification problem\n",
    "# categorical crossentropy for a many-class classification problem\n",
    "# meansquared error for a regression problem\n",
    "# connectionist temporal classification for a sequence-learning problem\n",
    "model.compile(optimizer='rmsprop', loss='binary_crossentropy', metrics=['accuracy'])\n",
    "\n",
    "# training step\n",
    "history = model.fit(partial_x_train,partial_y_train,epochs=20,batch_size=256,validation_data=(x_val, y_val))\n",
    "\n",
    "# evaluation step\n",
    "results = model.evaluate(x_test, y_test)"
   ]
  },
  {
   "cell_type": "code",
   "execution_count": 6,
   "id": "04031585",
   "metadata": {},
   "outputs": [
    {
     "data": {
      "image/png": "[encoded data removed]",
      "text/plain": [
       "<Figure size 432x288 with 1 Axes>"
      ]
     },
     "metadata": {
      "needs_background": "light"
     },
     "output_type": "display_data"
    }
   ],
   "source": [
    "history_dict = history.history\n",
    "acc = history_dict.get('accuracy')\n",
    "loss_values = history_dict['loss']\n",
    "val_loss_values = history_dict['val_loss']\n",
    "epochs = range(1, len(acc) + 1)\n",
    "plt.plot(epochs, loss_values, 'bo', label='Training loss')\n",
    "plt.plot(epochs, val_loss_values, 'b', label='Validation loss')\n",
    "plt.title('Training and validation loss')\n",
    "plt.xlabel('Epochs')\n",
    "plt.ylabel('Loss')\n",
    "plt.legend()\n",
    "plt.show()"
   ]
  },
  {
   "cell_type": "code",
   "execution_count": 7,
   "id": "1df9bdd4",
   "metadata": {},
   "outputs": [
    {
     "data": {
      "image/png": "[encoded data removed]",
      "text/plain": [
       "<Figure size 432x288 with 1 Axes>"
      ]
     },
     "metadata": {
      "needs_background": "light"
     },
     "output_type": "display_data"
    }
   ],
   "source": [
    "plt.clf()\n",
    "acc_values = history_dict['accuracy']\n",
    "val_acc_values = history_dict['val_accuracy']\n",
    "plt.plot(epochs, acc_values, 'bo', label='Training accuracy')\n",
    "plt.plot(epochs, val_acc_values, 'b', label='Validation accuracy')\n",
    "plt.title('Training and validation accuracy')\n",
    "plt.xlabel('Epochs')\n",
    "plt.ylabel('Loss')\n",
    "plt.legend()\n",
    "plt.show()"
   ]
  },
  {
   "cell_type": "code",
   "execution_count": 8,
   "id": "99da42e3",
   "metadata": {},
   "outputs": [
    {
     "name": "stdout",
     "output_type": "stream",
     "text": [
      "782/782 [==============================] - 1s 2ms/step\n"
     ]
    },
    {
     "data": {
      "text/plain": [
       "array([0.00131347], dtype=float32)"
      ]
     },
     "execution_count": 8,
     "metadata": {},
     "output_type": "execute_result"
    }
   ],
   "source": [
    "y_predicted = model.predict(x_test)\n",
    "y_predicted[0]"
   ]
  },
  {
   "cell_type": "code",
   "execution_count": null,
   "id": "bb05989a",
   "metadata": {},
   "outputs": [],
   "source": []
  },
  {
   "cell_type": "code",
   "execution_count": null,
   "id": "97575251",
   "metadata": {},
   "outputs": [],
   "source": []
  }
 ],
 "metadata": {
  "kernelspec": {
   "display_name": "Python 3 (ipykernel)",
   "language": "python",
   "name": "python3"
  },
  "language_info": {
   "codemirror_mode": {
    "name": "ipython",
    "version": 3
   },
   "file_extension": ".py",
   "mimetype": "text/x-python",
   "name": "python",
   "nbconvert_exporter": "python",
   "pygments_lexer": "ipython3",
   "version": "3.9.12"
  }
 },
 "nbformat": 4,
 "nbformat_minor": 5
}
