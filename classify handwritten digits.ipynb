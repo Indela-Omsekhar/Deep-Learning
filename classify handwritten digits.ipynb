{
 "cells": [
  {
   "cell_type": "markdown",
   "id": "770d12fd",
   "metadata": {},
   "source": [
    "#### single-label, multiclass classification problem"
   ]
  },
  {
   "cell_type": "code",
   "execution_count": 1,
   "id": "2bf7935d",
   "metadata": {},
   "outputs": [],
   "source": [
    "# imorting necessary libraries\n",
    "from keras.datasets import mnist\n",
    "from keras import models, layers\n",
    "from keras.utils import to_categorical\n",
    "import matplotlib.pyplot as plt"
   ]
  },
  {
   "cell_type": "code",
   "execution_count": 2,
   "id": "1de45e6f",
   "metadata": {},
   "outputs": [
    {
     "name": "stdout",
     "output_type": "stream",
     "text": [
      "(60000, 28, 28)\n",
      "(10000, 28, 28)\n",
      "(60000, 784)\n",
      "(10000, 784)\n"
     ]
    }
   ],
   "source": [
    "# Loading the MNIST dataset in Keras and split data into train and test\n",
    "(train_images, train_labels), (test_images, test_labels) = mnist.load_data()\n",
    "\n",
    "print(train_images.shape) # 60,000 samples with 28X28 pixels\n",
    "print(test_images.shape) # 10,000 samples with 28X28 pixels\n",
    "\n",
    "# Preparing the image data as per network requirement\n",
    "train_images_reshaped = train_images.reshape((60000, 28*28))\n",
    "train_images_reshaped = train_images_reshaped.astype('float32')/255\n",
    "test_images_reshaped = test_images.reshape((10000,28*28))\n",
    "test_images_reshaped = test_images_reshaped.astype('float32')/255\n",
    "\n",
    "print(train_images_reshaped.shape)\n",
    "print(test_images_reshaped.shape)\n",
    "\n",
    "# Preparing the labels as per network requirement\n",
    "train_labels_encoded = to_categorical(train_labels)\n",
    "test_labels_encoded = to_categorical(test_labels)\n",
    "\n",
    "# splitting train data into \n",
    "valid_images_reshaped = train_images_reshaped[:10000]\n",
    "partial_train_images_reshaped = train_images_reshaped[10000:]\n",
    "\n",
    "valid_labels_encoded = train_labels_encoded[:10000]\n",
    "partial_train_labels_encoded = train_labels_encoded[10000:]"
   ]
  },
  {
   "cell_type": "code",
   "execution_count": 3,
   "id": "87d8bb59",
   "metadata": {},
   "outputs": [
    {
     "name": "stdout",
     "output_type": "stream",
     "text": [
      "Epoch 1/20\n",
      "391/391 [==============================] - 5s 9ms/step - loss: 0.2916 - accuracy: 0.9167 - val_loss: 0.1657 - val_accuracy: 0.9517\n",
      "Epoch 2/20\n",
      "391/391 [==============================] - 3s 8ms/step - loss: 0.1184 - accuracy: 0.9654 - val_loss: 0.1191 - val_accuracy: 0.9670\n",
      "Epoch 3/20\n",
      "391/391 [==============================] - 3s 8ms/step - loss: 0.0776 - accuracy: 0.9766 - val_loss: 0.0888 - val_accuracy: 0.9731\n",
      "Epoch 4/20\n",
      "391/391 [==============================] - 3s 7ms/step - loss: 0.0562 - accuracy: 0.9832 - val_loss: 0.0822 - val_accuracy: 0.9764\n",
      "Epoch 5/20\n",
      "391/391 [==============================] - 3s 6ms/step - loss: 0.0415 - accuracy: 0.9874 - val_loss: 0.0719 - val_accuracy: 0.9796\n",
      "Epoch 6/20\n",
      "391/391 [==============================] - 3s 7ms/step - loss: 0.0314 - accuracy: 0.9906 - val_loss: 0.0737 - val_accuracy: 0.9779\n",
      "Epoch 7/20\n",
      "391/391 [==============================] - 3s 7ms/step - loss: 0.0238 - accuracy: 0.9934 - val_loss: 0.0872 - val_accuracy: 0.9744\n",
      "Epoch 8/20\n",
      "391/391 [==============================] - 3s 8ms/step - loss: 0.0173 - accuracy: 0.9956 - val_loss: 0.0721 - val_accuracy: 0.9801\n",
      "Epoch 9/20\n",
      "391/391 [==============================] - 3s 8ms/step - loss: 0.0127 - accuracy: 0.9968 - val_loss: 0.0737 - val_accuracy: 0.9806\n",
      "Epoch 10/20\n",
      "391/391 [==============================] - 3s 7ms/step - loss: 0.0098 - accuracy: 0.9977 - val_loss: 0.0744 - val_accuracy: 0.9805\n",
      "Epoch 11/20\n",
      "391/391 [==============================] - 3s 6ms/step - loss: 0.0072 - accuracy: 0.9985 - val_loss: 0.0707 - val_accuracy: 0.9812\n",
      "Epoch 12/20\n",
      "391/391 [==============================] - 3s 7ms/step - loss: 0.0052 - accuracy: 0.9990 - val_loss: 0.0745 - val_accuracy: 0.9814\n",
      "Epoch 13/20\n",
      "391/391 [==============================] - 3s 8ms/step - loss: 0.0035 - accuracy: 0.9995 - val_loss: 0.0764 - val_accuracy: 0.9797\n",
      "Epoch 14/20\n",
      "391/391 [==============================] - 3s 8ms/step - loss: 0.0028 - accuracy: 0.9995 - val_loss: 0.0762 - val_accuracy: 0.9819\n",
      "Epoch 15/20\n",
      "391/391 [==============================] - 3s 8ms/step - loss: 0.0019 - accuracy: 0.9998 - val_loss: 0.0730 - val_accuracy: 0.9822\n",
      "Epoch 16/20\n",
      "391/391 [==============================] - 3s 7ms/step - loss: 0.0011 - accuracy: 0.9999 - val_loss: 0.0740 - val_accuracy: 0.9827\n",
      "Epoch 17/20\n",
      "391/391 [==============================] - 3s 6ms/step - loss: 7.7776e-04 - accuracy: 1.0000 - val_loss: 0.0747 - val_accuracy: 0.9822\n",
      "Epoch 18/20\n",
      "391/391 [==============================] - 3s 7ms/step - loss: 6.7390e-04 - accuracy: 1.0000 - val_loss: 0.0781 - val_accuracy: 0.9825\n",
      "Epoch 19/20\n",
      "391/391 [==============================] - 3s 8ms/step - loss: 4.6447e-04 - accuracy: 1.0000 - val_loss: 0.0768 - val_accuracy: 0.9824\n",
      "Epoch 20/20\n",
      "391/391 [==============================] - 3s 8ms/step - loss: 4.0199e-04 - accuracy: 1.0000 - val_loss: 0.0761 - val_accuracy: 0.9828\n",
      "313/313 [==============================] - 1s 2ms/step - loss: 0.0713 - accuracy: 0.9823\n",
      "test_acc: 0.9822999835014343\n"
     ]
    }
   ],
   "source": [
    "#  network architecture\n",
    "# Sequential class used only for linear stacks of layers\n",
    "# functional API used for directed acyclic graphs of layers\n",
    "model = models.Sequential()\n",
    "# fully connected layer with 512 filters\n",
    "model.add(layers.Dense(512,activation='relu',input_shape=(28*28,)))\n",
    "# fully connected layer with 10 output classes\n",
    "model.add(layers.Dense(10,activation='softmax'))\n",
    "\n",
    "# compilation step\n",
    "# binary crossentropy for a two-class classification problem\n",
    "# categorical crossentropy for a many-class classification problem\n",
    "# meansquared error for a regression problem\n",
    "# connectionist temporal classification for a sequence-learning problem\n",
    "model.compile(loss='categorical_crossentropy', optimizer='rmsprop', metrics='accuracy')\n",
    "\n",
    "# training step\n",
    "history = model.fit(partial_train_images_reshaped,partial_train_labels_encoded,epochs=20,batch_size=128,\n",
    "          validation_data=(valid_images_reshaped, valid_labels_encoded))\n",
    "\n",
    "# evaluation step\n",
    "test_loss,test_acc = model.evaluate(test_images_reshaped,test_labels_encoded)\n",
    "print('test_acc:',test_acc)"
   ]
  },
  {
   "cell_type": "code",
   "execution_count": 4,
   "id": "8aca7720",
   "metadata": {},
   "outputs": [
    {
     "data": {
      "image/png": "[encoded data removed]",
      "text/plain": [
       "<Figure size 432x288 with 1 Axes>"
      ]
     },
     "metadata": {
      "needs_background": "light"
     },
     "output_type": "display_data"
    }
   ],
   "source": [
    "history_dict = history.history\n",
    "acc = history_dict.get('accuracy')\n",
    "loss_values = history_dict['loss']\n",
    "val_loss_values = history_dict['val_loss']\n",
    "epochs = range(1, len(acc) + 1)\n",
    "plt.plot(epochs, loss_values, 'bo', label='Training loss')\n",
    "plt.plot(epochs, val_loss_values, 'b', label='Validation loss')\n",
    "plt.title('Training and validation loss')\n",
    "plt.xlabel('Epochs')\n",
    "plt.ylabel('Loss')\n",
    "plt.legend()\n",
    "plt.show()"
   ]
  },
  {
   "cell_type": "code",
   "execution_count": 5,
   "id": "303f47c1",
   "metadata": {},
   "outputs": [
    {
     "data": {
      "image/png": "[encoded data removed]",
      "text/plain": [
       "<Figure size 432x288 with 1 Axes>"
      ]
     },
     "metadata": {
      "needs_background": "light"
     },
     "output_type": "display_data"
    }
   ],
   "source": [
    "plt.clf()\n",
    "acc_values = history_dict['accuracy']\n",
    "val_acc_values = history_dict['val_accuracy']\n",
    "plt.plot(epochs, acc_values, 'bo', label='Training accuracy')\n",
    "plt.plot(epochs, val_acc_values, 'b', label='Validation accuracy')\n",
    "plt.title('Training and validation accuracy')\n",
    "plt.xlabel('Epochs')\n",
    "plt.ylabel('Loss')\n",
    "plt.legend()\n",
    "plt.show()"
   ]
  },
  {
   "cell_type": "code",
   "execution_count": 6,
   "id": "ba2429ca",
   "metadata": {},
   "outputs": [
    {
     "name": "stdout",
     "output_type": "stream",
     "text": [
      "313/313 [==============================] - 1s 2ms/step\n"
     ]
    }
   ],
   "source": [
    "y_predicted = model.predict(test_images_reshaped)"
   ]
  },
  {
   "cell_type": "code",
   "execution_count": 7,
   "id": "0cf5a686",
   "metadata": {},
   "outputs": [
    {
     "data": {
      "text/plain": [
       "array([2.8111239e-11, 2.5215553e-13, 2.5879870e-10, 3.0214005e-07,\n",
       "       5.5675959e-17, 4.0209584e-13, 2.3782603e-18, 9.9999964e-01,\n",
       "       7.4306724e-12, 3.1756935e-09], dtype=float32)"
      ]
     },
     "execution_count": 7,
     "metadata": {},
     "output_type": "execute_result"
    }
   ],
   "source": [
    "y_predicted[0]"
   ]
  },
  {
   "cell_type": "code",
   "execution_count": null,
   "id": "debb72a5",
   "metadata": {},
   "outputs": [],
   "source": []
  }
 ],
 "metadata": {
  "kernelspec": {
   "display_name": "Python 3 (ipykernel)",
   "language": "python",
   "name": "python3"
  },
  "language_info": {
   "codemirror_mode": {
    "name": "ipython",
    "version": 3
   },
   "file_extension": ".py",
   "mimetype": "text/x-python",
   "name": "python",
   "nbconvert_exporter": "python",
   "pygments_lexer": "ipython3",
   "version": "3.9.12"
  }
 },
 "nbformat": 4,
 "nbformat_minor": 5
}
